{
 "cells": [
  {
   "cell_type": "code",
   "execution_count": 3,
   "metadata": {},
   "outputs": [],
   "source": [
    "import os\n",
    "import requests\n",
    "\n",
    "input_path = '/mnt/dat3/amps' \n",
    "output_path = '/mnt/dat3/amps/amps2021_22/' \n",
    "\n",
    "if not os.path.exists(output_path):\n",
    "    os.makedirs(output_path)\n",
    "    print(f\"Se ha creado el directorio: {output_path}\")\n"
   ]
  },
  {
   "cell_type": "code",
   "execution_count": null,
   "metadata": {},
   "outputs": [
    {
     "name": "stdout",
     "output_type": "stream",
     "text": [
      "Procesando el archivo: /mnt/dat3/amps/amps2021_22.txt\n",
      "Descargando: https://tds.ucar.edu/thredds/fileServer/datazone/amps/GRIB/WRF24/2021/06/07/2021060712_WRF_d6_f007.grb\n",
      "Archivo guardado en: /mnt/dat3/amps/amps2021_22/2021060712_WRF_d6_f007.grb\n",
      "Descargando: https://tds.ucar.edu/thredds/fileServer/datazone/amps/GRIB/WRF24/2021/06/07/2021060712_WRF_d6_f008.grb\n",
      "Archivo guardado en: /mnt/dat3/amps/amps2021_22/2021060712_WRF_d6_f008.grb\n",
      "Descargando: https://tds.ucar.edu/thredds/fileServer/datazone/amps/GRIB/WRF24/2021/06/07/2021060712_WRF_d6_f009.grb\n",
      "Archivo guardado en: /mnt/dat3/amps/amps2021_22/2021060712_WRF_d6_f009.grb\n",
      "Descargando: https://tds.ucar.edu/thredds/fileServer/datazone/amps/GRIB/WRF24/2021/06/07/2021060712_WRF_d6_f010.grb\n",
      "Archivo guardado en: /mnt/dat3/amps/amps2021_22/2021060712_WRF_d6_f010.grb\n",
      "Descargando: https://tds.ucar.edu/thredds/fileServer/datazone/amps/GRIB/WRF24/2021/06/07/2021060712_WRF_d6_f011.grb\n",
      "Archivo guardado en: /mnt/dat3/amps/amps2021_22/2021060712_WRF_d6_f011.grb\n",
      "Descargando: https://tds.ucar.edu/thredds/fileServer/datazone/amps/GRIB/WRF24/2021/06/07/2021060712_WRF_d6_f012.grb\n",
      "Archivo guardado en: /mnt/dat3/amps/amps2021_22/2021060712_WRF_d6_f012.grb\n",
      "Descargando: https://tds.ucar.edu/thredds/fileServer/datazone/amps/GRIB/WRF24/2021/06/08/2021060800_WRF_d6_f000.grb\n",
      "Archivo guardado en: /mnt/dat3/amps/amps2021_22/2021060800_WRF_d6_f000.grb\n",
      "Descargando: https://tds.ucar.edu/thredds/fileServer/datazone/amps/GRIB/WRF24/2021/06/08/2021060800_WRF_d6_f001.grb\n",
      "Archivo guardado en: /mnt/dat3/amps/amps2021_22/2021060800_WRF_d6_f001.grb\n",
      "Descargando: https://tds.ucar.edu/thredds/fileServer/datazone/amps/GRIB/WRF24/2021/06/08/2021060800_WRF_d6_f002.grb\n",
      "Archivo guardado en: /mnt/dat3/amps/amps2021_22/2021060800_WRF_d6_f002.grb\n",
      "Descargando: https://tds.ucar.edu/thredds/fileServer/datazone/amps/GRIB/WRF24/2021/06/08/2021060800_WRF_d6_f003.grb\n",
      "Archivo guardado en: /mnt/dat3/amps/amps2021_22/2021060800_WRF_d6_f003.grb\n",
      "Descargando: https://tds.ucar.edu/thredds/fileServer/datazone/amps/GRIB/WRF24/2021/06/08/2021060800_WRF_d6_f004.grb\n",
      "Archivo guardado en: /mnt/dat3/amps/amps2021_22/2021060800_WRF_d6_f004.grb\n",
      "Descargando: https://tds.ucar.edu/thredds/fileServer/datazone/amps/GRIB/WRF24/2021/06/08/2021060800_WRF_d6_f005.grb\n",
      "Archivo guardado en: /mnt/dat3/amps/amps2021_22/2021060800_WRF_d6_f005.grb\n",
      "Descargando: https://tds.ucar.edu/thredds/fileServer/datazone/amps/GRIB/WRF24/2021/06/08/2021060800_WRF_d6_f006.grb\n",
      "Archivo guardado en: /mnt/dat3/amps/amps2021_22/2021060800_WRF_d6_f006.grb\n",
      "Descargando: https://tds.ucar.edu/thredds/fileServer/datazone/amps/GRIB/WRF24/2021/06/08/2021060800_WRF_d6_f007.grb\n",
      "Archivo guardado en: /mnt/dat3/amps/amps2021_22/2021060800_WRF_d6_f007.grb\n",
      "Descargando: https://tds.ucar.edu/thredds/fileServer/datazone/amps/GRIB/WRF24/2021/06/08/2021060800_WRF_d6_f008.grb\n"
     ]
    }
   ],
   "source": [
    "# Iterar sobre los archivos dentro de input_path\n",
    "for file_name in os.listdir(input_path):\n",
    "    # Verificar si el archivo termina en '.txt'\n",
    "    if file_name.endswith('.txt'):\n",
    "        file_path = os.path.join(input_path, file_name)\n",
    "        print(f\"Procesando el archivo: {file_path}\")\n",
    "\n",
    "        # Leer el archivo de texto y procesar cada URL\n",
    "        with open(file_path, 'r') as f:\n",
    "            urls = f.readlines()  # Lee todas las líneas del archivo\n",
    "\n",
    "for url in urls:\n",
    "    url = url.strip()  # Elimina espacios en blanco y saltos de línea\n",
    "    if url:  # Verifica que no esté vacía\n",
    "        \n",
    "        # Extrae el nombre del archivo desde la URL\n",
    "        url_file_name = os.path.basename(url)\n",
    "        output_file = os.path.join(output_path, url_file_name)\n",
    "\n",
    "        # Check if file already exists\n",
    "        if not os.path.exists(output_file):\n",
    "            try:\n",
    "                print(f\"Descargando: {url}\")\n",
    "                response = requests.get(url, stream=True)\n",
    "                response.raise_for_status()\n",
    "\n",
    "                # Guarda el archivo descargado\n",
    "                with open(output_file, 'wb') as out_file:\n",
    "                    for chunk in response.iter_content(chunk_size=8192):\n",
    "                        out_file.write(chunk)\n",
    "\n",
    "                print(f\"Archivo guardado en: {output_file}\")\n",
    "            except requests.exceptions.RequestException as e:\n",
    "                print(f\"Error descargando {url}: {e}\")\n",
    "        else:\n",
    "            print(f\"Archivo ya existe: {output_file}\")\n"
   ]
  }
 ],
 "metadata": {
  "kernelspec": {
   "display_name": "venv",
   "language": "python",
   "name": "python3"
  },
  "language_info": {
   "codemirror_mode": {
    "name": "ipython",
    "version": 3
   },
   "file_extension": ".py",
   "mimetype": "text/x-python",
   "name": "python",
   "nbconvert_exporter": "python",
   "pygments_lexer": "ipython3",
   "version": "3.11.5"
  }
 },
 "nbformat": 4,
 "nbformat_minor": 2
}
